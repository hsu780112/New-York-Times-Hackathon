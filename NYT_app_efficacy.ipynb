{
 "cells": [
  {
   "cell_type": "markdown",
   "id": "25115741-e8ad-4f38-808e-f502b3de1b98",
   "metadata": {},
   "source": [
    "# Determination of Efficacy \n",
    "## on Changes To Ney York Times App/Page"
   ]
  },
  {
   "cell_type": "markdown",
   "id": "33eda7cf-4787-4fc8-b4fc-e6178550ab7e",
   "metadata": {},
   "source": [
    "In this report, we evaluate the impact of a recent update to the New York Times app, specifically designed to enhance user engagement with its Games, Cooking, and Audio sections. The objective of this change was to increase user interaction and time spent within these sections, ultimately boosting overall app usage and retention. By analyzing key engagement metrics such as session duration, click-through rates, and content consumption patterns before and after the update, we aim to determine the efficacy of this strategic modification. Our findings will provide valuable insights into the success of the update and guide future decisions for optimizing user experience. This report will detail the methods used for data collection and analysis, as well as the conclusions drawn from the results.\n",
    "\n",
    "Below is the process of evaluating the efficacy of the changes made.  The data used in the following hypothesis tests uses synthetic data and is not to be used for actual determination; it is solely used to describe the testing process and should apply actual data following actual testing of the changes to the app."
   ]
  },
  {
   "cell_type": "code",
   "execution_count": 1,
   "id": "246fa175-b114-41c2-87c2-7605b5646b88",
   "metadata": {},
   "outputs": [],
   "source": [
    "import numpy as np\n",
    "import pandas as pd\n",
    "import matplotlib.pyplot as plt\n",
    "import seaborn as sns"
   ]
  },
  {
   "cell_type": "code",
   "execution_count": 3,
   "id": "f5c627b1-38a3-49c8-8e8f-82cdac50de4f",
   "metadata": {},
   "outputs": [
    {
     "data": {
      "text/html": [
       "<div>\n",
       "<style scoped>\n",
       "    .dataframe tbody tr th:only-of-type {\n",
       "        vertical-align: middle;\n",
       "    }\n",
       "\n",
       "    .dataframe tbody tr th {\n",
       "        vertical-align: top;\n",
       "    }\n",
       "\n",
       "    .dataframe thead th {\n",
       "        text-align: right;\n",
       "    }\n",
       "</style>\n",
       "<table border=\"1\" class=\"dataframe\">\n",
       "  <thead>\n",
       "    <tr style=\"text-align: right;\">\n",
       "      <th></th>\n",
       "      <th>id</th>\n",
       "      <th>first_name</th>\n",
       "      <th>last_name</th>\n",
       "      <th>email</th>\n",
       "      <th>gender</th>\n",
       "      <th>ip_address</th>\n",
       "      <th>location</th>\n",
       "      <th>interests</th>\n",
       "      <th>time_end</th>\n",
       "      <th>no_clicks</th>\n",
       "      <th>no_likes</th>\n",
       "      <th>test_group</th>\n",
       "      <th>time_on_page</th>\n",
       "    </tr>\n",
       "  </thead>\n",
       "  <tbody>\n",
       "    <tr>\n",
       "      <th>0</th>\n",
       "      <td>1</td>\n",
       "      <td>Ives</td>\n",
       "      <td>Sheppey</td>\n",
       "      <td>isheppey0@cafepress.com</td>\n",
       "      <td>Male</td>\n",
       "      <td>212.87.187.119</td>\n",
       "      <td>Luntas</td>\n",
       "      <td>NaN</td>\n",
       "      <td>7/27/2024</td>\n",
       "      <td>19</td>\n",
       "      <td>7</td>\n",
       "      <td>A</td>\n",
       "      <td>25</td>\n",
       "    </tr>\n",
       "    <tr>\n",
       "      <th>1</th>\n",
       "      <td>2</td>\n",
       "      <td>Val</td>\n",
       "      <td>Scrammage</td>\n",
       "      <td>vscrammage1@umich.edu</td>\n",
       "      <td>Male</td>\n",
       "      <td>165.115.52.15</td>\n",
       "      <td>Chojnice</td>\n",
       "      <td>NaN</td>\n",
       "      <td>4/9/2024</td>\n",
       "      <td>8</td>\n",
       "      <td>3</td>\n",
       "      <td>A</td>\n",
       "      <td>21</td>\n",
       "    </tr>\n",
       "    <tr>\n",
       "      <th>2</th>\n",
       "      <td>3</td>\n",
       "      <td>Carmelia</td>\n",
       "      <td>Durrance</td>\n",
       "      <td>cdurrance2@amazon.co.jp</td>\n",
       "      <td>Female</td>\n",
       "      <td>206.152.91.174</td>\n",
       "      <td>Shangbahe</td>\n",
       "      <td>NaN</td>\n",
       "      <td>3/19/2024</td>\n",
       "      <td>8</td>\n",
       "      <td>5</td>\n",
       "      <td>B</td>\n",
       "      <td>34</td>\n",
       "    </tr>\n",
       "    <tr>\n",
       "      <th>3</th>\n",
       "      <td>4</td>\n",
       "      <td>Glennis</td>\n",
       "      <td>Grovier</td>\n",
       "      <td>ggrovier3@loc.gov</td>\n",
       "      <td>Female</td>\n",
       "      <td>121.163.201.146</td>\n",
       "      <td>Pulo</td>\n",
       "      <td>NaN</td>\n",
       "      <td>6/21/2024</td>\n",
       "      <td>2</td>\n",
       "      <td>6</td>\n",
       "      <td>B</td>\n",
       "      <td>26</td>\n",
       "    </tr>\n",
       "    <tr>\n",
       "      <th>4</th>\n",
       "      <td>5</td>\n",
       "      <td>Pippy</td>\n",
       "      <td>Jenman</td>\n",
       "      <td>pjenman4@earthlink.net</td>\n",
       "      <td>Female</td>\n",
       "      <td>98.12.142.172</td>\n",
       "      <td>Kedungdoro</td>\n",
       "      <td>NaN</td>\n",
       "      <td>1/19/2024</td>\n",
       "      <td>2</td>\n",
       "      <td>8</td>\n",
       "      <td>B</td>\n",
       "      <td>33</td>\n",
       "    </tr>\n",
       "  </tbody>\n",
       "</table>\n",
       "</div>"
      ],
      "text/plain": [
       "   id first_name  last_name                    email  gender       ip_address  \\\n",
       "0   1       Ives    Sheppey  isheppey0@cafepress.com    Male   212.87.187.119   \n",
       "1   2        Val  Scrammage    vscrammage1@umich.edu    Male    165.115.52.15   \n",
       "2   3   Carmelia   Durrance  cdurrance2@amazon.co.jp  Female   206.152.91.174   \n",
       "3   4    Glennis    Grovier        ggrovier3@loc.gov  Female  121.163.201.146   \n",
       "4   5      Pippy     Jenman   pjenman4@earthlink.net  Female    98.12.142.172   \n",
       "\n",
       "     location  interests   time_end  no_clicks  no_likes test_group  \\\n",
       "0      Luntas        NaN  7/27/2024         19         7          A   \n",
       "1    Chojnice        NaN   4/9/2024          8         3          A   \n",
       "2   Shangbahe        NaN  3/19/2024          8         5          B   \n",
       "3        Pulo        NaN  6/21/2024          2         6          B   \n",
       "4  Kedungdoro        NaN  1/19/2024          2         8          B   \n",
       "\n",
       "   time_on_page  \n",
       "0            25  \n",
       "1            21  \n",
       "2            34  \n",
       "3            26  \n",
       "4            33  "
      ]
     },
     "execution_count": 3,
     "metadata": {},
     "output_type": "execute_result"
    }
   ],
   "source": [
    "NYT_eff_df = pd.read_csv('NYT_app_data.csv')\n",
    "NYT_eff_df.head()"
   ]
  },
  {
   "cell_type": "markdown",
   "id": "b1bcf2bb-6d49-42a4-8f2c-1564c3c57673",
   "metadata": {},
   "source": [
    "In order to protect the data of users, the dateframe will be reducedd to remove unnecessary and personal data.  The reucead dataframe will be named NYT_red_df"
   ]
  },
  {
   "cell_type": "code",
   "execution_count": 4,
   "id": "e9346e30-0ab1-4cae-a0d2-b7027e403151",
   "metadata": {},
   "outputs": [
    {
     "data": {
      "text/html": [
       "<div>\n",
       "<style scoped>\n",
       "    .dataframe tbody tr th:only-of-type {\n",
       "        vertical-align: middle;\n",
       "    }\n",
       "\n",
       "    .dataframe tbody tr th {\n",
       "        vertical-align: top;\n",
       "    }\n",
       "\n",
       "    .dataframe thead th {\n",
       "        text-align: right;\n",
       "    }\n",
       "</style>\n",
       "<table border=\"1\" class=\"dataframe\">\n",
       "  <thead>\n",
       "    <tr style=\"text-align: right;\">\n",
       "      <th></th>\n",
       "      <th>id</th>\n",
       "      <th>no_clicks</th>\n",
       "      <th>no_likes</th>\n",
       "      <th>time_on_page</th>\n",
       "      <th>test_group</th>\n",
       "    </tr>\n",
       "  </thead>\n",
       "  <tbody>\n",
       "    <tr>\n",
       "      <th>0</th>\n",
       "      <td>1</td>\n",
       "      <td>19</td>\n",
       "      <td>7</td>\n",
       "      <td>25</td>\n",
       "      <td>A</td>\n",
       "    </tr>\n",
       "    <tr>\n",
       "      <th>1</th>\n",
       "      <td>2</td>\n",
       "      <td>8</td>\n",
       "      <td>3</td>\n",
       "      <td>21</td>\n",
       "      <td>A</td>\n",
       "    </tr>\n",
       "    <tr>\n",
       "      <th>2</th>\n",
       "      <td>3</td>\n",
       "      <td>8</td>\n",
       "      <td>5</td>\n",
       "      <td>34</td>\n",
       "      <td>B</td>\n",
       "    </tr>\n",
       "    <tr>\n",
       "      <th>3</th>\n",
       "      <td>4</td>\n",
       "      <td>2</td>\n",
       "      <td>6</td>\n",
       "      <td>26</td>\n",
       "      <td>B</td>\n",
       "    </tr>\n",
       "    <tr>\n",
       "      <th>4</th>\n",
       "      <td>5</td>\n",
       "      <td>2</td>\n",
       "      <td>8</td>\n",
       "      <td>33</td>\n",
       "      <td>B</td>\n",
       "    </tr>\n",
       "  </tbody>\n",
       "</table>\n",
       "</div>"
      ],
      "text/plain": [
       "   id  no_clicks  no_likes  time_on_page test_group\n",
       "0   1         19         7            25          A\n",
       "1   2          8         3            21          A\n",
       "2   3          8         5            34          B\n",
       "3   4          2         6            26          B\n",
       "4   5          2         8            33          B"
      ]
     },
     "execution_count": 4,
     "metadata": {},
     "output_type": "execute_result"
    }
   ],
   "source": [
    "NYT_red_df = NYT_eff_df[['id', 'no_clicks', 'no_likes', 'time_on_page', 'test_group']]\n",
    "NYT_red_df.head()\n"
   ]
  },
  {
   "cell_type": "markdown",
   "id": "5fa5e258-9400-47c2-935a-ec998ad96161",
   "metadata": {},
   "source": [
    "Next, we will use three different metrics to determine the efficacy of the changes.  The metrics are: 'no_clicks' (number of clicks by the users of each group), 'no_likes' (number of likes by users of each group), and 'time_on_page' time spent on the page by the users of each group).\n",
    "\n",
    "Group A represents the users post-change in the page, and Group_B represents users of the original format."
   ]
  },
  {
   "cell_type": "markdown",
   "id": "1c747c5a-c166-4ae4-a70e-1ed9d0eca342",
   "metadata": {},
   "source": [
    "## Analysis Bases on Time Spent on the Page\n",
    "\n",
    "Null Hypothesis: the change did not produce any significant change based on 'time_on_page' (the amount of time the users spent on the app/page).\n",
    "\n",
    "Alternative Hypothesis: With a significance of 95%, there was a change based on 'time_on_page' (the amount of time the users spent on the app/page).\n"
   ]
  },
  {
   "cell_type": "code",
   "execution_count": 8,
   "id": "98d57ab6-64db-4afc-9386-81f7a1c47026",
   "metadata": {},
   "outputs": [
    {
     "name": "stdout",
     "output_type": "stream",
     "text": [
      "Average time on page for Group A: 30.14\n",
      "Average time on page for Group B: 28.04\n",
      "T-statistic: 6.184878172487526\n",
      "P-value: 9.052292506694058e-10\n",
      "Reject the null hypothesis: There is a statistically significant difference between group_A and group_B for time on page.\n"
     ]
    }
   ],
   "source": [
    "\n",
    "import scipy.stats as stats\n",
    "\n",
    "# Separate the data into two groups\n",
    "# Note: data is split 50-50\n",
    "group_A = NYT_red_df[NYT_red_df['test_group'] == 'A']['time_on_page']\n",
    "group_B = NYT_red_df[NYT_red_df['test_group'] == 'B']['time_on_page']\n",
    "\n",
    "# Perform an independent t-test\n",
    "t_stat, p_value = stats.ttest_ind(group_A, group_B)\n",
    "\n",
    "\n",
    "# Calculate and print the average time on page for each group\n",
    "avg_time_A = group_A.mean()\n",
    "avg_time_B = group_B.mean()\n",
    "\n",
    "print(f\"Average time on page for Group A: {avg_time_A:.2f}\")\n",
    "print(f\"Average time on page for Group B: {avg_time_B:.2f}\")\n",
    "\n",
    "# Display the t-statistic and p-value\n",
    "print(f\"T-statistic: {t_stat}\")\n",
    "print(f\"P-value: {p_value}\")\n",
    "\n",
    "# Interpret the results\n",
    "alpha = 0.05\n",
    "if p_value < alpha:\n",
    "    print(\"Reject the null hypothesis: There is a statistically significant difference between group_A and group_B for time on page.\")\n",
    "else:\n",
    "    print(\"Fail to reject the null hypothesis: There is no statistically significant difference between group_A and group_B for time on page.\")\n"
   ]
  },
  {
   "cell_type": "markdown",
   "id": "727fb857-f6f5-4d7f-a924-e02a0db0b556",
   "metadata": {},
   "source": [
    "## Analysis Based on the Number of Clicks on the Page\n",
    "\n",
    "Null Hypothesis: the change did not produce any statistically significant change based on 'no_clicks' (the number of clicks by the users of the app/page).\n",
    "\n",
    "Alternative Hypothesis: With a significance of 95%, there was a statistically significant change based on 'no_clicks' (the number of clicks by the users of the app/page)."
   ]
  },
  {
   "cell_type": "code",
   "execution_count": 9,
   "id": "2af5342f-4af5-4b47-9185-996319012b7f",
   "metadata": {},
   "outputs": [
    {
     "name": "stdout",
     "output_type": "stream",
     "text": [
      "Average no_clicks for Group A: 8.36779324055666\n",
      "Average no_clicks for Group B: 5.237424547283702\n",
      "T-statistic: 11.0648471671839\n",
      "P-value: 6.346578116512094e-27\n",
      "Reject the null hypothesis: There is a statistically significant difference between group_A and group_B for time on page.\n"
     ]
    }
   ],
   "source": [
    "\n",
    "import scipy.stats as stats\n",
    "\n",
    "# Separate the data into two groups\n",
    "# Note: data is split 50-50\n",
    "group_A = NYT_red_df[NYT_red_df['test_group'] == 'A']['no_clicks']\n",
    "group_B = NYT_red_df[NYT_red_df['test_group'] == 'B']['no_clicks']\n",
    "\n",
    "# Calculate the average values for each group\n",
    "mean_A = group_A.mean()\n",
    "mean_B = group_B.mean()\n",
    "\n",
    "# Display the averages\n",
    "print(f\"Average no_clicks for Group A: {mean_A}\")\n",
    "print(f\"Average no_clicks for Group B: {mean_B}\")\n",
    "\n",
    "# Perform an independent t-test\n",
    "t_stat, p_value = stats.ttest_ind(group_A, group_B)\n",
    "\n",
    "# Display the t-statistic and p-value\n",
    "print(f\"T-statistic: {t_stat}\")\n",
    "print(f\"P-value: {p_value}\")\n",
    "\n",
    "# Interpret the results\n",
    "alpha = 0.05\n",
    "if p_value < alpha:\n",
    "    print(\"Reject the null hypothesis: There is a statistically significant difference between group_A and group_B for time on page.\")\n",
    "else:\n",
    "    print(\"Fail to reject the null hypothesis: There is no statistically significant difference between group_A and group_B for time on page.\")\n"
   ]
  },
  {
   "cell_type": "markdown",
   "id": "b889c8fe-e054-4419-9144-cc8ab041351f",
   "metadata": {},
   "source": [
    "## Analysis Based on the Number of Likes on the Page\n",
    "\n",
    "Null Hypothesis: the change did not produce any statistically significant change based on 'no_likes' (the number of 'likes' by the users of the app/page).\n",
    "\n",
    "Alternative Hypothesis: With a significance of 95%, there was a statistically significant change based on 'no_likes' (the number of 'likes' by the users of the app/page)."
   ]
  },
  {
   "cell_type": "code",
   "execution_count": 10,
   "id": "40f8c4d1-6b82-47c3-8a6d-08fb186469b2",
   "metadata": {},
   "outputs": [
    {
     "name": "stdout",
     "output_type": "stream",
     "text": [
      "Average no_likes for Group A: 6.013916500994036\n",
      "Average no_likes for Group B: 4.959758551307847\n",
      "T-statistic: 6.6379719842228315\n",
      "P-value: 5.2114357175856565e-11\n",
      "Reject the null hypothesis: There is a statistically significant difference between group_A and group_B for time on page.\n"
     ]
    }
   ],
   "source": [
    "\n",
    "import scipy.stats as stats\n",
    "\n",
    "# Separate the data into two groups\n",
    "# Note: data is split 50-50\n",
    "group_A = NYT_red_df[NYT_red_df['test_group'] == 'A']['no_likes']\n",
    "group_B = NYT_red_df[NYT_red_df['test_group'] == 'B']['no_likes']\n",
    "\n",
    "# Perform an independent t-test\n",
    "t_stat, p_value = stats.ttest_ind(group_A, group_B)\n",
    "\n",
    "mean_A = group_A.mean()\n",
    "mean_B = group_B.mean()\n",
    "\n",
    "# Display the averages\n",
    "print(f\"Average no_likes for Group A: {mean_A}\")\n",
    "print(f\"Average no_likes for Group B: {mean_B}\")\n",
    "\n",
    "# Display the t-statistic and p-value\n",
    "print(f\"T-statistic: {t_stat}\")\n",
    "print(f\"P-value: {p_value}\")\n",
    "\n",
    "# Interpret the results\n",
    "alpha = 0.05\n",
    "if p_value < alpha:\n",
    "    print(\"Reject the null hypothesis: There is a statistically significant difference between group_A and group_B for time on page.\")\n",
    "else:\n",
    "    print(\"Fail to reject the null hypothesis: There is no statistically significant difference between group_A and group_B for time on page.\")\n"
   ]
  },
  {
   "cell_type": "code",
   "execution_count": null,
   "id": "5f3f6a23-1db3-49b9-8916-0e29c4909445",
   "metadata": {},
   "outputs": [],
   "source": []
  },
  {
   "cell_type": "code",
   "execution_count": null,
   "id": "8c61508d-841a-4ec3-9c06-06fad6d0ecdb",
   "metadata": {},
   "outputs": [],
   "source": []
  },
  {
   "cell_type": "code",
   "execution_count": null,
   "id": "4afc6ad6-ecdf-4d23-9946-5fff4de6fe38",
   "metadata": {},
   "outputs": [],
   "source": []
  },
  {
   "cell_type": "code",
   "execution_count": null,
   "id": "b926d33b-caba-4ac5-b2e5-37b714b473b6",
   "metadata": {},
   "outputs": [],
   "source": []
  }
 ],
 "metadata": {
  "kernelspec": {
   "display_name": "Python 3 (ipykernel)",
   "language": "python",
   "name": "python3"
  },
  "language_info": {
   "codemirror_mode": {
    "name": "ipython",
    "version": 3
   },
   "file_extension": ".py",
   "mimetype": "text/x-python",
   "name": "python",
   "nbconvert_exporter": "python",
   "pygments_lexer": "ipython3",
   "version": "3.8.0"
  }
 },
 "nbformat": 4,
 "nbformat_minor": 5
}
